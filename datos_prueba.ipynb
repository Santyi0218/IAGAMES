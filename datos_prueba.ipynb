{
  "nbformat": 4,
  "nbformat_minor": 0,
  "metadata": {
    "colab": {
      "name": "datos_prueba.ipynb",
      "provenance": [],
      "collapsed_sections": [],
      "mount_file_id": "1NlxUxZ8yzTo-I6pLGAHKtB8DQR7Lle9s",
      "authorship_tag": "ABX9TyNSds3LKt5hxanttlE0b5Zp",
      "include_colab_link": true
    },
    "kernelspec": {
      "name": "python3",
      "display_name": "Python 3"
    }
  },
  "cells": [
    {
      "cell_type": "markdown",
      "metadata": {
        "id": "view-in-github",
        "colab_type": "text"
      },
      "source": [
        "<a href=\"https://colab.research.google.com/github/Santyi0218/IAGAMES/blob/TEST/datos_prueba.ipynb\" target=\"_parent\"><img src=\"https://colab.research.google.com/assets/colab-badge.svg\" alt=\"Open In Colab\"/></a>"
      ]
    },
    {
      "cell_type": "markdown",
      "metadata": {
        "id": "W2m-KJwGt2hh"
      },
      "source": [
        "### Inicializar instalación de selenium"
      ]
    },
    {
      "cell_type": "code",
      "metadata": {
        "colab": {
          "base_uri": "https://localhost:8080/"
        },
        "id": "IbOgixXj8lHb",
        "outputId": "07f0866c-56c3-4fef-aefd-d5ce02fb2e61"
      },
      "source": [
        "! pip install selenium"
      ],
      "execution_count": null,
      "outputs": [
        {
          "output_type": "stream",
          "text": [
            "Collecting selenium\n",
            "\u001b[?25l  Downloading https://files.pythonhosted.org/packages/80/d6/4294f0b4bce4de0abf13e17190289f9d0613b0a44e5dd6a7f5ca98459853/selenium-3.141.0-py2.py3-none-any.whl (904kB)\n",
            "\r\u001b[K     |▍                               | 10kB 21.1MB/s eta 0:00:01\r\u001b[K     |▊                               | 20kB 27.8MB/s eta 0:00:01\r\u001b[K     |█                               | 30kB 24.5MB/s eta 0:00:01\r\u001b[K     |█▌                              | 40kB 18.8MB/s eta 0:00:01\r\u001b[K     |█▉                              | 51kB 17.3MB/s eta 0:00:01\r\u001b[K     |██▏                             | 61kB 12.7MB/s eta 0:00:01\r\u001b[K     |██▌                             | 71kB 13.4MB/s eta 0:00:01\r\u001b[K     |███                             | 81kB 13.2MB/s eta 0:00:01\r\u001b[K     |███▎                            | 92kB 12.8MB/s eta 0:00:01\r\u001b[K     |███▋                            | 102kB 12.6MB/s eta 0:00:01\r\u001b[K     |████                            | 112kB 12.6MB/s eta 0:00:01\r\u001b[K     |████▍                           | 122kB 12.6MB/s eta 0:00:01\r\u001b[K     |████▊                           | 133kB 12.6MB/s eta 0:00:01\r\u001b[K     |█████                           | 143kB 12.6MB/s eta 0:00:01\r\u001b[K     |█████▍                          | 153kB 12.6MB/s eta 0:00:01\r\u001b[K     |█████▉                          | 163kB 12.6MB/s eta 0:00:01\r\u001b[K     |██████▏                         | 174kB 12.6MB/s eta 0:00:01\r\u001b[K     |██████▌                         | 184kB 12.6MB/s eta 0:00:01\r\u001b[K     |██████▉                         | 194kB 12.6MB/s eta 0:00:01\r\u001b[K     |███████▎                        | 204kB 12.6MB/s eta 0:00:01\r\u001b[K     |███████▋                        | 215kB 12.6MB/s eta 0:00:01\r\u001b[K     |████████                        | 225kB 12.6MB/s eta 0:00:01\r\u001b[K     |████████▎                       | 235kB 12.6MB/s eta 0:00:01\r\u001b[K     |████████▊                       | 245kB 12.6MB/s eta 0:00:01\r\u001b[K     |█████████                       | 256kB 12.6MB/s eta 0:00:01\r\u001b[K     |█████████▍                      | 266kB 12.6MB/s eta 0:00:01\r\u001b[K     |█████████▉                      | 276kB 12.6MB/s eta 0:00:01\r\u001b[K     |██████████▏                     | 286kB 12.6MB/s eta 0:00:01\r\u001b[K     |██████████▌                     | 296kB 12.6MB/s eta 0:00:01\r\u001b[K     |██████████▉                     | 307kB 12.6MB/s eta 0:00:01\r\u001b[K     |███████████▎                    | 317kB 12.6MB/s eta 0:00:01\r\u001b[K     |███████████▋                    | 327kB 12.6MB/s eta 0:00:01\r\u001b[K     |████████████                    | 337kB 12.6MB/s eta 0:00:01\r\u001b[K     |████████████▎                   | 348kB 12.6MB/s eta 0:00:01\r\u001b[K     |████████████▊                   | 358kB 12.6MB/s eta 0:00:01\r\u001b[K     |█████████████                   | 368kB 12.6MB/s eta 0:00:01\r\u001b[K     |█████████████▍                  | 378kB 12.6MB/s eta 0:00:01\r\u001b[K     |█████████████▊                  | 389kB 12.6MB/s eta 0:00:01\r\u001b[K     |██████████████▏                 | 399kB 12.6MB/s eta 0:00:01\r\u001b[K     |██████████████▌                 | 409kB 12.6MB/s eta 0:00:01\r\u001b[K     |██████████████▉                 | 419kB 12.6MB/s eta 0:00:01\r\u001b[K     |███████████████▏                | 430kB 12.6MB/s eta 0:00:01\r\u001b[K     |███████████████▋                | 440kB 12.6MB/s eta 0:00:01\r\u001b[K     |████████████████                | 450kB 12.6MB/s eta 0:00:01\r\u001b[K     |████████████████▎               | 460kB 12.6MB/s eta 0:00:01\r\u001b[K     |████████████████▋               | 471kB 12.6MB/s eta 0:00:01\r\u001b[K     |█████████████████               | 481kB 12.6MB/s eta 0:00:01\r\u001b[K     |█████████████████▍              | 491kB 12.6MB/s eta 0:00:01\r\u001b[K     |█████████████████▊              | 501kB 12.6MB/s eta 0:00:01\r\u001b[K     |██████████████████▏             | 512kB 12.6MB/s eta 0:00:01\r\u001b[K     |██████████████████▌             | 522kB 12.6MB/s eta 0:00:01\r\u001b[K     |██████████████████▉             | 532kB 12.6MB/s eta 0:00:01\r\u001b[K     |███████████████████▏            | 542kB 12.6MB/s eta 0:00:01\r\u001b[K     |███████████████████▋            | 552kB 12.6MB/s eta 0:00:01\r\u001b[K     |████████████████████            | 563kB 12.6MB/s eta 0:00:01\r\u001b[K     |████████████████████▎           | 573kB 12.6MB/s eta 0:00:01\r\u001b[K     |████████████████████▋           | 583kB 12.6MB/s eta 0:00:01\r\u001b[K     |█████████████████████           | 593kB 12.6MB/s eta 0:00:01\r\u001b[K     |█████████████████████▍          | 604kB 12.6MB/s eta 0:00:01\r\u001b[K     |█████████████████████▊          | 614kB 12.6MB/s eta 0:00:01\r\u001b[K     |██████████████████████          | 624kB 12.6MB/s eta 0:00:01\r\u001b[K     |██████████████████████▌         | 634kB 12.6MB/s eta 0:00:01\r\u001b[K     |██████████████████████▉         | 645kB 12.6MB/s eta 0:00:01\r\u001b[K     |███████████████████████▏        | 655kB 12.6MB/s eta 0:00:01\r\u001b[K     |███████████████████████▌        | 665kB 12.6MB/s eta 0:00:01\r\u001b[K     |████████████████████████        | 675kB 12.6MB/s eta 0:00:01\r\u001b[K     |████████████████████████▎       | 686kB 12.6MB/s eta 0:00:01\r\u001b[K     |████████████████████████▋       | 696kB 12.6MB/s eta 0:00:01\r\u001b[K     |█████████████████████████       | 706kB 12.6MB/s eta 0:00:01\r\u001b[K     |█████████████████████████▍      | 716kB 12.6MB/s eta 0:00:01\r\u001b[K     |█████████████████████████▊      | 727kB 12.6MB/s eta 0:00:01\r\u001b[K     |██████████████████████████      | 737kB 12.6MB/s eta 0:00:01\r\u001b[K     |██████████████████████████▍     | 747kB 12.6MB/s eta 0:00:01\r\u001b[K     |██████████████████████████▉     | 757kB 12.6MB/s eta 0:00:01\r\u001b[K     |███████████████████████████▏    | 768kB 12.6MB/s eta 0:00:01\r\u001b[K     |███████████████████████████▌    | 778kB 12.6MB/s eta 0:00:01\r\u001b[K     |████████████████████████████    | 788kB 12.6MB/s eta 0:00:01\r\u001b[K     |████████████████████████████▎   | 798kB 12.6MB/s eta 0:00:01\r\u001b[K     |████████████████████████████▋   | 808kB 12.6MB/s eta 0:00:01\r\u001b[K     |█████████████████████████████   | 819kB 12.6MB/s eta 0:00:01\r\u001b[K     |█████████████████████████████▍  | 829kB 12.6MB/s eta 0:00:01\r\u001b[K     |█████████████████████████████▊  | 839kB 12.6MB/s eta 0:00:01\r\u001b[K     |██████████████████████████████  | 849kB 12.6MB/s eta 0:00:01\r\u001b[K     |██████████████████████████████▍ | 860kB 12.6MB/s eta 0:00:01\r\u001b[K     |██████████████████████████████▉ | 870kB 12.6MB/s eta 0:00:01\r\u001b[K     |███████████████████████████████▏| 880kB 12.6MB/s eta 0:00:01\r\u001b[K     |███████████████████████████████▌| 890kB 12.6MB/s eta 0:00:01\r\u001b[K     |███████████████████████████████▉| 901kB 12.6MB/s eta 0:00:01\r\u001b[K     |████████████████████████████████| 911kB 12.6MB/s \n",
            "\u001b[?25hRequirement already satisfied: urllib3 in /usr/local/lib/python3.6/dist-packages (from selenium) (1.24.3)\n",
            "Installing collected packages: selenium\n",
            "Successfully installed selenium-3.141.0\n"
          ],
          "name": "stdout"
        }
      ]
    },
    {
      "cell_type": "markdown",
      "metadata": {
        "id": "44Ur4qfJuGgB"
      },
      "source": [
        "### Código de webscrapping\n"
      ]
    },
    {
      "cell_type": "code",
      "metadata": {
        "colab": {
          "base_uri": "https://localhost:8080/"
        },
        "id": "V1SYMWcG8W9B",
        "outputId": "9a94b946-8fe2-430c-a2e5-5dae1f18407e"
      },
      "source": [
        "from selenium import webdriver\n",
        "from bs4 import BeautifulSoup\n",
        "import lxml.html as lh\n",
        "import pandas as pd\n",
        "import requests\n",
        "\n",
        "url = 'https://www.hispanosnba.com/equipos/atlanta-hawks/calendario/2019-20'\n",
        "page = requests.get(url)\n",
        "soup = BeautifulSoup(page.content, \"lxml\")\n",
        "page1 = soup.find('div', {\"class\":\"main block\"})\n",
        "\n",
        "page1 = page1.find('main', {\"class\":\"content block\"},)\n",
        "\n",
        "titles = page1.findAll('section', {\"class\":\"bordered block\"})[0]\n",
        "title = titles.find('div', {\"class\":\"hlist\"})\n",
        "tabla = title.find('table', {\"class\":\"tblcal\"})\n",
        "tr_elements = tabla.findAll(['tr'])\n",
        "i = 0\n",
        "col = []\n",
        "for t in tr_elements[0]:\n",
        "    i+=1\n",
        "    name=t.text.strip()\n",
        "    print(i,name)\n",
        "    col.append((name,[]))\n",
        "\n",
        "page1 = page1.findAll('section', {\"class\":\"bordered block\"})\n",
        "\n",
        "for pageNumber in page1:\n",
        "    classhlist = pageNumber.find('div', {\"class\":\"hlist\"})\n",
        "    tabla = classhlist.find('table', {\"class\":\"tblcal\"})\n",
        "    tr_elements = tabla.findAll(['tr'])\n",
        "    i = 0\n",
        "    for j in range(1,len(tr_elements)):\n",
        "        element = tr_elements[j]\n",
        "        i = 0\n",
        "        for t in element:\n",
        "            \n",
        "            name  = t.text.strip()\n",
        "            print(i,name)\n",
        "            col[i][1].append(name)\n",
        "            i+=1\n",
        "\n",
        "#print([len(T) for T in tr_elements[:12]])\n",
        "\n",
        "dicc = {title:column for (title,column) in col}\n",
        "df = pd.DataFrame(dicc)\n",
        "# print(len(col))\n",
        "print(df)\n",
        "# for i in range(len(col)):\n",
        "#     print(col[i][0])"
      ],
      "execution_count": null,
      "outputs": [
        {
          "output_type": "stream",
          "text": [
            "1 Fecha\n",
            "2 Local\n",
            "3 Visitante\n",
            "4 Resultado\n",
            "0 ju. 24\n",
            "1 Detroit Pistons\n",
            "2 ATLANTA HAWKS\n",
            "3 100-117\n",
            "0 sá. 26\n",
            "1 ATLANTA HAWKS\n",
            "2 Orlando Magic\n",
            "3 103-99\n",
            "0 lu. 28\n",
            "1 Atlanta Hawks\n",
            "2 PHILADELPHIA 76ERS\n",
            "3 103-105\n",
            "0 ma. 29\n",
            "1 MIAMI HEAT\n",
            "2 Atlanta Hawks\n",
            "3 112-97\n",
            "0 ju. 31\n",
            "1 Atlanta Hawks\n",
            "2 MIAMI HEAT\n",
            "3 97-106\n",
            "0 ma. 05\n",
            "1 ATLANTA HAWKS\n",
            "2 San Antonio Spurs\n",
            "3 108-100\n",
            "0 mi. 06\n",
            "1 Atlanta Hawks\n",
            "2 CHICAGO BULLS\n",
            "3 93-113\n",
            "0 vi. 08\n",
            "1 Atlanta Hawks\n",
            "2 SACRAMENTO KINGS\n",
            "3 109-121\n",
            "0 do. 10\n",
            "1 PORTLAND TRAIL BLAZERS\n",
            "2 Atlanta Hawks\n",
            "3 124-113\n",
            "0 ma. 12\n",
            "1 Denver Nuggets\n",
            "2 ATLANTA HAWKS\n",
            "3 121-125\n",
            "0 ju. 14\n",
            "1 PHOENIX SUNS\n",
            "2 Atlanta Hawks\n",
            "3 128-112\n",
            "0 sá. 16\n",
            "1 LOS ANGELES CLIPPERS\n",
            "2 Atlanta Hawks\n",
            "3 150-101\n",
            "0 do. 17\n",
            "1 LOS ANGELES LAKERS\n",
            "2 Atlanta Hawks\n",
            "3 122-101\n",
            "0 mi. 20\n",
            "1 Atlanta Hawks\n",
            "2 MILWAUKEE BUCKS\n",
            "3 127-135\n",
            "0 vi. 22\n",
            "1 DETROIT PISTONS\n",
            "2 Atlanta Hawks\n",
            "3 128-103\n",
            "0 sá. 23\n",
            "1 Atlanta Hawks\n",
            "2 TORONTO RAPTORS\n",
            "3 116-119\n",
            "0 lu. 25\n",
            "1 Atlanta Hawks\n",
            "2 MINNESOTA TIMBERWOLVES\n",
            "3 113-125\n",
            "0 mi. 27\n",
            "1 MILWAUKEE BUCKS\n",
            "2 Atlanta Hawks\n",
            "3 111-102\n",
            "0 vi. 29\n",
            "1 INDIANA PACERS\n",
            "2 Atlanta Hawks\n",
            "3 105-104\n",
            "0 sá. 30\n",
            "1 HOUSTON ROCKETS\n",
            "2 Atlanta Hawks\n",
            "3 158-111\n",
            "0 lu. 02\n",
            "1 ATLANTA HAWKS\n",
            "2 Golden State Warriors\n",
            "3 104-79\n",
            "0 mi. 04\n",
            "1 Atlanta Hawks\n",
            "2 BROOKLYN NETS\n",
            "3 118-130\n",
            "0 do. 08\n",
            "1 Charlotte Hornets\n",
            "2 ATLANTA HAWKS\n",
            "3 107-122\n",
            "0 ma. 10\n",
            "1 MIAMI HEAT\n",
            "2 Atlanta Hawks\n",
            "3 135-121\n",
            "0 mi. 11\n",
            "1 CHICAGO BULLS\n",
            "2 Atlanta Hawks\n",
            "3 136-102\n",
            "0 vi. 13\n",
            "1 Atlanta Hawks\n",
            "2 INDIANA PACERS\n",
            "3 100-110\n",
            "0 do. 15\n",
            "1 Atlanta Hawks\n",
            "2 LOS ANGELES LAKERS\n",
            "3 96-101\n",
            "0 ma. 17\n",
            "1 NEW YORK KNICKS\n",
            "2 Atlanta Hawks\n",
            "3 143-120\n",
            "0 ju. 19\n",
            "1 Atlanta Hawks\n",
            "2 UTAH JAZZ\n",
            "3 106-111\n",
            "0 sá. 21\n",
            "1 BROOKLYN NETS\n",
            "2 Atlanta Hawks\n",
            "3 122-112\n",
            "0 lu. 23\n",
            "1 CLEVELAND CAVALIERS\n",
            "2 Atlanta Hawks\n",
            "3 121-118\n",
            "0 vi. 27\n",
            "1 Atlanta Hawks\n",
            "2 MILWAUKEE BUCKS\n",
            "3 86-112\n",
            "0 sá. 28\n",
            "1 CHICAGO BULLS\n",
            "2 Atlanta Hawks\n",
            "3 116-81\n",
            "0 lu. 30\n",
            "1 Orlando Magic\n",
            "2 ATLANTA HAWKS\n",
            "3 93-101\n",
            "0 vi. 03\n",
            "1 BOSTON CELTICS\n",
            "2 Atlanta Hawks\n",
            "3 109-106\n",
            "0 sá. 04\n",
            "1 ATLANTA HAWKS\n",
            "2 Indiana Pacers\n",
            "3 116-111\n",
            "0 lu. 06\n",
            "1 Atlanta Hawks\n",
            "2 DENVER NUGGETS\n",
            "3 115-123\n",
            "0 mi. 08\n",
            "1 Atlanta Hawks\n",
            "2 HOUSTON ROCKETS\n",
            "3 115-122\n",
            "0 vi. 10\n",
            "1 WASHINGTON WIZARDS\n",
            "2 Atlanta Hawks\n",
            "3 111-101\n",
            "0 do. 12\n",
            "1 BROOKLYN NETS\n",
            "2 Atlanta Hawks\n",
            "3 108-86\n",
            "0 ma. 14\n",
            "1 ATLANTA HAWKS\n",
            "2 Phoenix Suns\n",
            "3 123-110\n",
            "0 vi. 17\n",
            "1 San Antonio Spurs\n",
            "2 ATLANTA HAWKS\n",
            "3 120-121\n",
            "0 sá. 18\n",
            "1 Atlanta Hawks\n",
            "2 DETROIT PISTONS\n",
            "3 103-136\n",
            "0 lu. 20\n",
            "1 Atlanta Hawks\n",
            "2 TORONTO RAPTORS\n",
            "3 117-122\n",
            "0 mi. 22\n",
            "1 ATLANTA HAWKS\n",
            "2 Los Angeles Clippers\n",
            "3 102-95\n",
            "0 vi. 24\n",
            "1 OKLAHOMA CITY THUNDER\n",
            "2 Atlanta Hawks\n",
            "3 140-111\n",
            "0 do. 26\n",
            "1 ATLANTA HAWKS\n",
            "2 Washington Wizards\n",
            "3 152-133\n",
            "0 ma. 28\n",
            "1 TORONTO RAPTORS\n",
            "2 Atlanta Hawks\n",
            "3 130-114\n",
            "0 ju. 30\n",
            "1 ATLANTA HAWKS\n",
            "2 Philadelphia 76ers\n",
            "3 127-117\n",
            "0 sá. 01\n",
            "1 DALLAS MAVERICKS\n",
            "2 Atlanta Hawks\n",
            "3 123-100\n",
            "0 lu. 03\n",
            "1 Atlanta Hawks\n",
            "2 BOSTON CELTICS\n",
            "3 115-123\n",
            "0 mi. 05\n",
            "1 Minnesota Timberwolves\n",
            "2 ATLANTA HAWKS\n",
            "3 120-127\n",
            "0 vi. 07\n",
            "1 BOSTON CELTICS\n",
            "2 Atlanta Hawks\n",
            "3 112-107\n",
            "0 do. 09\n",
            "1 ATLANTA HAWKS\n",
            "2 New York Knicks\n",
            "3 140-135\n",
            "0 lu. 10\n",
            "1 ORLANDO MAGIC\n",
            "2 Atlanta Hawks\n",
            "3 135-126\n",
            "0 mi. 12\n",
            "1 CLEVELAND CAVALIERS\n",
            "2 Atlanta Hawks\n",
            "3 127-105\n",
            "0 ju. 20\n",
            "1 ATLANTA HAWKS\n",
            "2 Miami Heat\n",
            "3 129-124\n",
            "0 sá. 22\n",
            "1 ATLANTA HAWKS\n",
            "2 Dallas Mavericks\n",
            "3 111-107\n",
            "0 lu. 24\n",
            "1 PHILADELPHIA 76ERS\n",
            "2 Atlanta Hawks\n",
            "3 129-112\n",
            "0 mi. 26\n",
            "1 Atlanta Hawks\n",
            "2 ORLANDO MAGIC\n",
            "3 120-130\n",
            "0 vi. 28\n",
            "1 ATLANTA HAWKS\n",
            "2 Brooklyn Nets\n",
            "3 141-118\n",
            "0 sá. 29\n",
            "1 ATLANTA HAWKS\n",
            "2 Portland Trail Blazers\n",
            "3 129-117\n",
            "0 lu. 02\n",
            "1 Atlanta Hawks\n",
            "2 MEMPHIS GRIZZLIES\n",
            "3 88-127\n",
            "0 vi. 06\n",
            "1 WASHINGTON WIZARDS\n",
            "2 Atlanta Hawks\n",
            "3 118-112\n",
            "0 sá. 07\n",
            "1 MEMPHIS GRIZZLIES\n",
            "2 Atlanta Hawks\n",
            "3 118-101\n",
            "0 lu. 09\n",
            "1 ATLANTA HAWKS\n",
            "2 Charlotte Hornets\n",
            "3 143-138\n",
            "0 mi. 11\n",
            "1 Atlanta Hawks\n",
            "2 NEW YORK KNICKS\n",
            "3 131-136\n",
            "0 sá. 14\n",
            "1 Atlanta Hawks\n",
            "2 Cleveland Cavaliers\n",
            "3 Susp. ET\n",
            "0 lu. 16\n",
            "1 New Orleans Pelicans\n",
            "2 Atlanta Hawks\n",
            "3 Susp. ET\n",
            "0 mi. 18\n",
            "1 Atlanta Hawks\n",
            "2 Oklahoma City Thunder\n",
            "3 Susp. ET\n",
            "0 vi. 20\n",
            "1 Atlanta Hawks\n",
            "2 Washington Wizards\n",
            "3 Susp. ET\n",
            "0 sá. 21\n",
            "1 Philadelphia 76ers\n",
            "2 Atlanta Hawks\n",
            "3 Susp. ET\n",
            "0 mi. 25\n",
            "1 Golden State Warriors\n",
            "2 Atlanta Hawks\n",
            "3 Susp. ET\n",
            "0 ju. 26\n",
            "1 Sacramento Kings\n",
            "2 Atlanta Hawks\n",
            "3 Susp. ET\n",
            "0 sá. 28\n",
            "1 Utah Jazz\n",
            "2 Atlanta Hawks\n",
            "3 Susp. ET\n",
            "0 ma. 31\n",
            "1 Atlanta Hawks\n",
            "2 New Orleans Pelicans\n",
            "3 Susp. ET\n",
            "0 vi. 03\n",
            "1 Atlanta Hawks\n",
            "2 Charlotte Hornets\n",
            "3 Susp. ET\n",
            "0 do. 05\n",
            "1 Charlotte Hornets\n",
            "2 Atlanta Hawks\n",
            "3 Susp. ET\n",
            "0 ma. 07\n",
            "1 Atlanta Hawks\n",
            "2 Detroit Pistons\n",
            "3 Susp. ET\n",
            "0 vi. 10\n",
            "1 Toronto Raptors\n",
            "2 Atlanta Hawks\n",
            "3 Susp. ET\n",
            "0 do. 12\n",
            "1 Milwaukee Bucks\n",
            "2 Atlanta Hawks\n",
            "3 Susp. ET\n",
            "0 mi. 15\n",
            "1 Atlanta Hawks\n",
            "2 Cleveland Cavaliers\n",
            "3 Susp. ET\n",
            "     Fecha              Local            Visitante Resultado\n",
            "0   ju. 24    Detroit Pistons        ATLANTA HAWKS   100-117\n",
            "1   sá. 26      ATLANTA HAWKS        Orlando Magic    103-99\n",
            "2   lu. 28      Atlanta Hawks   PHILADELPHIA 76ERS   103-105\n",
            "3   ma. 29         MIAMI HEAT        Atlanta Hawks    112-97\n",
            "4   ju. 31      Atlanta Hawks           MIAMI HEAT    97-106\n",
            "..     ...                ...                  ...       ...\n",
            "77  do. 05  Charlotte Hornets        Atlanta Hawks  Susp. ET\n",
            "78  ma. 07      Atlanta Hawks      Detroit Pistons  Susp. ET\n",
            "79  vi. 10    Toronto Raptors        Atlanta Hawks  Susp. ET\n",
            "80  do. 12    Milwaukee Bucks        Atlanta Hawks  Susp. ET\n",
            "81  mi. 15      Atlanta Hawks  Cleveland Cavaliers  Susp. ET\n",
            "\n",
            "[82 rows x 4 columns]\n"
          ],
          "name": "stdout"
        }
      ]
    },
    {
      "cell_type": "code",
      "metadata": {
        "colab": {
          "base_uri": "https://localhost:8080/"
        },
        "id": "52cqZI0VbvwV",
        "outputId": "71fd0dbf-ef6f-43dc-d7b1-24a017c6b847"
      },
      "source": [
        "! pip install virtualenv"
      ],
      "execution_count": null,
      "outputs": [
        {
          "output_type": "stream",
          "text": [
            "Collecting virtualenv\n",
            "\u001b[?25l  Downloading https://files.pythonhosted.org/packages/1a/c6/bb564f5eec616d241e85d741f00a07f5f50ea12989022ad49bc66876993c/virtualenv-20.2.2-py2.py3-none-any.whl (5.7MB)\n",
            "\u001b[K     |████████████████████████████████| 5.7MB 10.4MB/s \n",
            "\u001b[?25hRequirement already satisfied: importlib-resources>=1.0; python_version < \"3.7\" in /usr/local/lib/python3.6/dist-packages (from virtualenv) (3.3.0)\n",
            "Collecting appdirs<2,>=1.4.3\n",
            "  Downloading https://files.pythonhosted.org/packages/3b/00/2344469e2084fb287c2e0b57b72910309874c3245463acd6cf5e3db69324/appdirs-1.4.4-py2.py3-none-any.whl\n",
            "Requirement already satisfied: filelock<4,>=3.0.0 in /usr/local/lib/python3.6/dist-packages (from virtualenv) (3.0.12)\n",
            "Requirement already satisfied: six<2,>=1.9.0 in /usr/local/lib/python3.6/dist-packages (from virtualenv) (1.15.0)\n",
            "Requirement already satisfied: importlib-metadata>=0.12; python_version < \"3.8\" in /usr/local/lib/python3.6/dist-packages (from virtualenv) (2.0.0)\n",
            "Collecting distlib<1,>=0.3.1\n",
            "\u001b[?25l  Downloading https://files.pythonhosted.org/packages/f5/0a/490fa011d699bb5a5f3a0cf57de82237f52a6db9d40f33c53b2736c9a1f9/distlib-0.3.1-py2.py3-none-any.whl (335kB)\n",
            "\u001b[K     |████████████████████████████████| 337kB 43.3MB/s \n",
            "\u001b[?25hRequirement already satisfied: zipp>=0.4; python_version < \"3.8\" in /usr/local/lib/python3.6/dist-packages (from importlib-resources>=1.0; python_version < \"3.7\"->virtualenv) (3.4.0)\n",
            "Installing collected packages: appdirs, distlib, virtualenv\n",
            "Successfully installed appdirs-1.4.4 distlib-0.3.1 virtualenv-20.2.2\n"
          ],
          "name": "stdout"
        }
      ]
    },
    {
      "cell_type": "code",
      "metadata": {
        "colab": {
          "base_uri": "https://localhost:8080/"
        },
        "id": "0fvn4HpfcJM8",
        "outputId": "9caed702-e6aa-4460-a3e1-d33b90798497"
      },
      "source": [
        "! virtualenv elpepe -p python3"
      ],
      "execution_count": null,
      "outputs": [
        {
          "output_type": "stream",
          "text": [
            "created virtual environment CPython3.6.9.final.0-64 in 785ms\n",
            "  creator CPython3Posix(dest=/content/elpepe, clear=False, no_vcs_ignore=False, global=False)\n",
            "  seeder FromAppData(download=False, pip=bundle, setuptools=bundle, wheel=bundle, via=copy, app_data_dir=/root/.local/share/virtualenv)\n",
            "    added seed packages: pip==20.3.1, setuptools==51.0.0, wheel==0.36.1\n",
            "  activators BashActivator,CShellActivator,FishActivator,PowerShellActivator,PythonActivator,XonshActivator\n"
          ],
          "name": "stdout"
        }
      ]
    },
    {
      "cell_type": "code",
      "metadata": {
        "id": "u8LTT2uTccFM"
      },
      "source": [
        "! source elpepe/bin/activate"
      ],
      "execution_count": null,
      "outputs": []
    },
    {
      "cell_type": "code",
      "metadata": {
        "colab": {
          "base_uri": "https://localhost:8080/"
        },
        "id": "1FsQVT_XdbBu",
        "outputId": "979cb536-e61d-41ae-c8b2-5298bf0a69be"
      },
      "source": [
        "! cd sample_data | ls"
      ],
      "execution_count": null,
      "outputs": [
        {
          "output_type": "stream",
          "text": [
            "elpepe\tsample_data\n"
          ],
          "name": "stdout"
        }
      ]
    },
    {
      "cell_type": "markdown",
      "metadata": {
        "id": "dWu7hA1XuP3o"
      },
      "source": [
        "### Instalación de PymySQL"
      ]
    },
    {
      "cell_type": "code",
      "metadata": {
        "id": "oKDesDx2fMkX"
      },
      "source": [
        "class villegas_marica():\n",
        "\n",
        "    def __init__(self):\n",
        "        self.texto = \"villegas es gay\"\n",
        "    \n",
        "    def get_texto(self):\n",
        "        return self.texto"
      ],
      "execution_count": null,
      "outputs": []
    },
    {
      "cell_type": "code",
      "metadata": {
        "colab": {
          "base_uri": "https://localhost:8080/"
        },
        "id": "R7uFb03IeHLW",
        "outputId": "0cc2a697-2079-4ef4-f931-5eaf96ba6b34"
      },
      "source": [
        "! pip install pymysql\n",
        "import pymysql\n",
        "from sqlalchemy import create_engine"
      ],
      "execution_count": null,
      "outputs": [
        {
          "output_type": "stream",
          "text": [
            "Collecting pymysql\n",
            "  Using cached https://files.pythonhosted.org/packages/1a/ea/dd9c81e2d85efd03cfbf808736dd055bd9ea1a78aea9968888b1055c3263/PyMySQL-0.10.1-py2.py3-none-any.whl\n",
            "Installing collected packages: pymysql\n",
            "Successfully installed pymysql-0.10.1\n"
          ],
          "name": "stdout"
        }
      ]
    },
    {
      "cell_type": "markdown",
      "metadata": {
        "id": "jvPhYJlsucOR"
      },
      "source": [
        "Conexión a BD online (Solo entorno de pruebas)"
      ]
    },
    {
      "cell_type": "code",
      "metadata": {
        "id": "9ECCssI27oEL"
      },
      "source": [
        "db = pymysql.connect(\"db4free.net\", \"santyi0218\", \"6391176santyi\", \"deportes_pruebas\")"
      ],
      "execution_count": null,
      "outputs": []
    },
    {
      "cell_type": "markdown",
      "metadata": {
        "id": "ptyqfcwMupWx"
      },
      "source": [
        "Verificando conexión a la BD (se obtiene una respuesta)\n"
      ]
    },
    {
      "cell_type": "code",
      "metadata": {
        "colab": {
          "base_uri": "https://localhost:8080/"
        },
        "id": "JjGUxPF28c4Z",
        "outputId": "b2bcb5f8-ea1e-41d7-96ae-94e8341948a1"
      },
      "source": [
        "cursor = db.cursor()\n",
        "cursor.execute(\"SELECT VERSION()\")\n",
        "data = cursor.fetchone()\n",
        "print(\"DATA VERSION: {0}\".format(data))\n",
        "\n",
        "db.close()"
      ],
      "execution_count": null,
      "outputs": [
        {
          "output_type": "stream",
          "text": [
            "DATA VERSION: ('8.0.22',)\n"
          ],
          "name": "stdout"
        }
      ]
    }
  ]
}